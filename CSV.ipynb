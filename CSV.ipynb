{
  "nbformat": 4,
  "nbformat_minor": 0,
  "metadata": {
    "colab": {
      "provenance": [],
      "authorship_tag": "ABX9TyNjR2viphD+YS+MdvzOIWDi",
      "include_colab_link": true
    },
    "kernelspec": {
      "name": "python3",
      "display_name": "Python 3"
    },
    "language_info": {
      "name": "python"
    }
  },
  "cells": [
    {
      "cell_type": "markdown",
      "metadata": {
        "id": "view-in-github",
        "colab_type": "text"
      },
      "source": [
        "<a href=\"https://colab.research.google.com/github/Luky-ALT/Projects_by_Python/blob/main/CSV.ipynb\" target=\"_parent\"><img src=\"https://colab.research.google.com/assets/colab-badge.svg\" alt=\"Open In Colab\"/></a>"
      ]
    },
    {
      "cell_type": "markdown",
      "source": [
        "CSV"
      ],
      "metadata": {
        "id": "zXnoFYzi4w08"
      }
    },
    {
      "cell_type": "code",
      "execution_count": null,
      "metadata": {
        "id": "JWnEbdOY4UfM"
      },
      "outputs": [],
      "source": [
        "import csv\n",
        "from typing import List\n",
        "\n",
        "import requests\n",
        "from bs4 import BeautifulSoup\n",
        "\n",
        "URL = \"http://heroes3.cz/hraci\"\n",
        "\n",
        "\n",
        "def hlavni() -> None:\n",
        "    odpoved = ziskej_odpoved()\n",
        "    naparsovano = vytahni_udaje(odpoved)\n",
        "\n",
        "    tabulka = hledej_tabulku(naparsovano)\n",
        "    radky = hledej_radky(tabulka)\n",
        "\n",
        "    konecne_udaje = (hraci_info(row) for row in radky)\n",
        "    uloz_csv(list(konecne_udaje))\n",
        "\n",
        "\n",
        "def ziskej_odpoved():\n",
        "    with requests.Session() as s:\n",
        "        return s.get(URL)\n",
        "\n",
        "\n",
        "def vytahni_udaje(resp):\n",
        "    return BeautifulSoup(resp.text, \"html.parser\")\n",
        "\n",
        "\n",
        "def hledej_tabulku(cont):\n",
        "    return cont.find(\"table\", {\"class\": \"tab_top\"})\n",
        "\n",
        "\n",
        "def hledej_radky(tabl) -> list:\n",
        "    return tabl.find_all(\"tr\")[1:]\n",
        "\n",
        "\n",
        "def hraci_info(h2) -> dict:\n",
        "    try:\n",
        "        poradi = h2.find_all(\"td\")[0].text\n",
        "        hrac = h2.find_all(\"td\")[2].text\n",
        "        body = h2.find_all(\"td\")[3].text\n",
        "        uspesnost = h2.find_all(\"td\")[7].text\n",
        "        return {\"poradi\": poradi, \"hrac\": hrac, \"body\": body, \"uspesnost\": uspesnost}\n",
        "\n",
        "    except AttributeError:\n",
        "        print(\"Indexy u jednotlivych bunek v radku nejsou v poradku\")\n",
        "\n",
        "\n",
        "def uloz_csv(data: List[dict]):\n",
        "    with open(\"hraci.csv\", \"a\", newline=\"\") as csv_soubor:\n",
        "        zahlavi = [\"PORADI\", \"UZIVATEL\", \"BODY\", \"USPESNOST\"]\n",
        "        writer = csv.DictWriter(csv_soubor, fieldnames=zahlavi)\n",
        "        writer.writeheader()\n",
        "\n",
        "        for index, _ in enumerate(data):\n",
        "            writer.writerow(\n",
        "                {\n",
        "                    \"PORADI\": data[index][\"poradi\"],\n",
        "                    \"UZIVATEL\": data[index][\"hrac\"],\n",
        "                    \"BODY\": data[index][\"body\"],\n",
        "                    \"USPESNOST\": data[index][\"uspesnost\"],\n",
        "                }\n",
        "            ) \n",
        "\n",
        "\n",
        "if __name__ == \"__main__\":\n",
        "    hlavni()"
      ]
    },
    {
      "cell_type": "code",
      "source": [
        "import csv\n",
        "\n",
        "import requests\n",
        "from bs4 import BeautifulSoup\n",
        "import pandas as pd\n",
        "\n",
        "URL = \"https://www.ebay.co.uk/sch/i.html?_from=R40&_trksid=p2380057.m570.l1313&_nkw=canon+m50&_sacat=0\"\n",
        "\n",
        "\n",
        "\n",
        "\n",
        "def get_data(URL):\n",
        "    r = requests.get(URL)\n",
        "    soup = BeautifulSoup(r.text, \"html.parser\")\n",
        "    return soup\n",
        "\n",
        "\n",
        "def parse(soup):\n",
        "    productslist = []\n",
        "    results = soup.find_all(\"div\", {\"class\" : \"s-item__info clearfix\"})\n",
        "    for item in results:\n",
        "        products = {\n",
        "            'title': item.find('div', {'class': 's-item__title'}).text,\n",
        "            'soldprice': item.find('span', {'class': 's-item__price'}),\n",
        "            'bids': item.find(\"span\", {'class': 's-item__bids'}),\n",
        "            'link': item.find(\"a\", {\"class\":\"s-item__link\"}),\n",
        "        }\n",
        "        productslist.append(products)\n",
        "    return productslist\n",
        "\n",
        "def output(productslist):\n",
        "    productsdf = pd.DataFrame(productslist)\n",
        "    productsdf.to_csv(\"output.csv\", index=False)\n",
        "    print(\"saved to csv\")\n",
        "    return\n",
        "\n",
        "soup = get_data(URL)\n",
        "productslist = parse(soup)\n",
        "output(productslist)"
      ],
      "metadata": {
        "id": "hsENLdah49Y7"
      },
      "execution_count": null,
      "outputs": []
    }
  ]
}