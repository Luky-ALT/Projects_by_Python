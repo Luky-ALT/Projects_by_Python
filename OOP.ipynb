{
  "nbformat": 4,
  "nbformat_minor": 0,
  "metadata": {
    "colab": {
      "provenance": [],
      "authorship_tag": "ABX9TyOL2saeYnHy4/uUUv3v6mbU",
      "include_colab_link": true
    },
    "kernelspec": {
      "name": "python3",
      "display_name": "Python 3"
    },
    "language_info": {
      "name": "python"
    }
  },
  "cells": [
    {
      "cell_type": "markdown",
      "metadata": {
        "id": "view-in-github",
        "colab_type": "text"
      },
      "source": [
        "<a href=\"https://colab.research.google.com/github/Luky-ALT/Projects_by_Python/blob/main/OOP.ipynb\" target=\"_parent\"><img src=\"https://colab.research.google.com/assets/colab-badge.svg\" alt=\"Open In Colab\"/></a>"
      ]
    },
    {
      "cell_type": "code",
      "source": [
        "\n",
        "\n",
        "class Card:\n",
        "    SPADES  = \"Spades\"\n",
        "    HEARTS = \"Hearts\"\n",
        "    DIAMONDS = \"Diamonds\"\n",
        "    CLUBS = \"Clubs\"\n",
        "    COLORS = SPADES, HEARTS, DIAMONDS, CLUBS\n",
        "    \n",
        "    LOW_RANKS = tuple(str(number) for number in range(2, 11))\n",
        "    HIGH_RANKS = JACK, QUEEN, KING, ACE = \"Jack\", \"Queen\", \"King\", \"Ace\"\n",
        "    RANKS = LOW_RANKS + HIGH_RANKS\n",
        "    \n",
        "    def __init__(self, color, rank):\n",
        "        color = color.capitalize()\n",
        "        rank = str(rank)\n",
        "        if color not in self.COLORS:\n",
        "            raise ValueError(f\"Invalid color {color}.\")\n",
        "        if rank not in self.RANKS:\n",
        "            raise ValueError(f\"Invalid rank {rank}.\")\n",
        "        self.color = color\n",
        "        self.rank = rank\n",
        "        \n",
        "    def rank_value(self):\n",
        "        return self.RANKS.index(self.rank)\n",
        "\n",
        "    def is_high(self):\n",
        "        return self.rank in self.HIGH_RANKS\n",
        "\n",
        "    def __eq__(self, other):\n",
        "        return self.color == other.color and self.rank == other.rank\n",
        "    \n",
        "    def __lt__(a, b):\n",
        "        \"\"\"Return True if a < b\"\"\"\n",
        "        return a.rank_value() < b.rank_value()\n",
        "    \n",
        "    def __repr__(self):\n",
        "        #return f\"{str(self)} ({object.__repr__(self)})\"\n",
        "        \n",
        "        #return f\"{str(self)} at {id(self)}\"\n",
        "        \n",
        "        return f'Card(\"{self.color}\", \"{self.rank}\")'\n",
        "\n",
        "    #def __str__(self):\n",
        "    #    return f\"{self.rank} of {self.color}\"\n",
        "\n",
        "\n",
        "def main():\n",
        "    ten = Card(Card.SPADES, 10)\n",
        "    jack = Card(Card.HEARTS, Card.JACK)\n",
        "\n",
        "    print(str(jack))\n",
        "    print(jack < ten, ten < jack)\n",
        "    print(jack == Card(\"Hearts\", \"Jack\"))\n",
        "    \n",
        "    original = [jack, ten]\n",
        "    print(original)\n",
        "    print(sorted(original))\n",
        "    \n",
        "\n",
        "if __name__ == \"__main__\":\n",
        "    main()\n",
        "    \n"
      ],
      "metadata": {
        "id": "Rsmpc-Zsu1Lr",
        "colab": {
          "base_uri": "https://localhost:8080/"
        },
        "outputId": "d0f0fb01-c01a-4379-d4ff-e937fce5f8bf"
      },
      "execution_count": 1,
      "outputs": [
        {
          "output_type": "stream",
          "name": "stdout",
          "text": [
            "Card(\"Hearts\", \"Jack\")\n",
            "False True\n",
            "True\n",
            "[Card(\"Hearts\", \"Jack\"), Card(\"Spades\", \"10\")]\n",
            "[Card(\"Spades\", \"10\"), Card(\"Hearts\", \"Jack\")]\n"
          ]
        }
      ]
    },
    {
      "cell_type": "code",
      "source": [
        "class Card:\n",
        "    def __init__(self, color, rank):\n",
        "        self.color = color.capitalize()\n",
        "        self.rank = rank\n",
        "\n",
        "    def is_high(self):\n",
        "        return self.rank in (\"Jack\", \"Queen\", \"King\", \"Ace\")\n",
        "\n",
        "    def __eq__(self, other):\n",
        "        return self.color == other.color and self.rank == other.rank\n",
        "\n",
        "    def __str__(self):\n",
        "        return f\"{self.rank} of {self.color}\"\n",
        "    \n",
        "    def __lt__(a, b):\n",
        "        \"\"\"Return True if a < b\"\"\"\n",
        "        return a.rank < b.rank\n",
        "\n",
        "    \n",
        "def main():\n",
        "    ten = Card(\"spades\", 10)\n",
        "    nine = Card(\"spades\", 9)\n",
        "\n",
        "    print(nine < ten, ten < nine)\n",
        "\n",
        "\n",
        "if __name__ == \"__main__\":\n",
        "    main()"
      ],
      "metadata": {
        "colab": {
          "base_uri": "https://localhost:8080/"
        },
        "id": "Xt18N2Lc5s7L",
        "outputId": "ce37ebc3-336d-4115-8e17-185ba2db4d6b"
      },
      "execution_count": null,
      "outputs": [
        {
          "output_type": "stream",
          "name": "stdout",
          "text": [
            "True False\n"
          ]
        }
      ]
    }
  ]
}