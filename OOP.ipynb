{
  "nbformat": 4,
  "nbformat_minor": 0,
  "metadata": {
    "colab": {
      "provenance": [],
      "authorship_tag": "ABX9TyMFmjUmMdtrv9AzkmxMCXw6",
      "include_colab_link": true
    },
    "kernelspec": {
      "name": "python3",
      "display_name": "Python 3"
    },
    "language_info": {
      "name": "python"
    }
  },
  "cells": [
    {
      "cell_type": "markdown",
      "metadata": {
        "id": "view-in-github",
        "colab_type": "text"
      },
      "source": [
        "<a href=\"https://colab.research.google.com/github/Luky-ALT/Projects_by_Python/blob/main/OOP.ipynb\" target=\"_parent\"><img src=\"https://colab.research.google.com/assets/colab-badge.svg\" alt=\"Open In Colab\"/></a>"
      ]
    },
    {
      "cell_type": "code",
      "source": [
        "\n",
        "\n",
        "class Card:\n",
        "    SPADES  = \"Spades\"\n",
        "    HEARTS = \"Hearts\"\n",
        "    DIAMONDS = \"Diamonds\"\n",
        "    CLUBS = \"Clubs\"\n",
        "    COLORS = SPADES, HEARTS, DIAMONDS, CLUBS\n",
        "    \n",
        "    LOW_RANKS = tuple(str(number) for number in range(2, 11))\n",
        "    HIGH_RANKS = JACK, QUEEN, KING, ACE = \"Jack\", \"Queen\", \"King\", \"Ace\"\n",
        "    RANKS = LOW_RANKS + HIGH_RANKS\n",
        "    \n",
        "    def __init__(self, color, rank):\n",
        "        color = color.capitalize()\n",
        "        rank = str(rank)\n",
        "        if color not in self.COLORS:\n",
        "            raise ValueError(f\"Invalid color {color}.\")\n",
        "        if rank not in self.RANKS:\n",
        "            raise ValueError(f\"Invalid rank {rank}.\")\n",
        "        self.color = color\n",
        "        self.rank = rank\n",
        "        \n",
        "    def rank_value(self):\n",
        "        return self.RANKS.index(self.rank)\n",
        "\n",
        "    def is_high(self):\n",
        "        return self.rank in self.HIGH_RANKS\n",
        "\n",
        "    def __eq__(self, other):\n",
        "        return self.color == other.color and self.rank == other.rank\n",
        "    \n",
        "    def __lt__(a, b):\n",
        "        \"\"\"Return True if a < b\"\"\"\n",
        "        return a.rank_value() < b.rank_value()\n",
        "    \n",
        "    def __repr__(self):\n",
        "        #return f\"{str(self)} ({object.__repr__(self)})\"\n",
        "        \n",
        "        #return f\"{str(self)} at {id(self)}\"\n",
        "        \n",
        "        return f'Card(\"{self.color}\", \"{self.rank}\")'\n",
        "\n",
        "    #def __str__(self):\n",
        "    #    return f\"{self.rank} of {self.color}\"\n",
        "\n",
        "\n",
        "def main():\n",
        "    ten = Card(Card.SPADES, 10)\n",
        "    jack = Card(Card.HEARTS, Card.JACK)\n",
        "\n",
        "    print(str(jack))\n",
        "    print(jack < ten, ten < jack)\n",
        "    print(jack == Card(\"Hearts\", \"Jack\"))\n",
        "    \n",
        "    original = [jack, ten]\n",
        "    print(original)\n",
        "    print(sorted(original))\n",
        "    \n",
        "\n",
        "if __name__ == \"__main__\":\n",
        "    main()\n",
        "    \n"
      ],
      "metadata": {
        "id": "Rsmpc-Zsu1Lr",
        "colab": {
          "base_uri": "https://localhost:8080/"
        },
        "outputId": "d0f0fb01-c01a-4379-d4ff-e937fce5f8bf"
      },
      "execution_count": 1,
      "outputs": [
        {
          "output_type": "stream",
          "name": "stdout",
          "text": [
            "Card(\"Hearts\", \"Jack\")\n",
            "False True\n",
            "True\n",
            "[Card(\"Hearts\", \"Jack\"), Card(\"Spades\", \"10\")]\n",
            "[Card(\"Spades\", \"10\"), Card(\"Hearts\", \"Jack\")]\n"
          ]
        }
      ]
    },
    {
      "cell_type": "code",
      "source": [
        "class Card:\n",
        "    def __init__(self, color, rank):\n",
        "        self.color = color.capitalize()\n",
        "        self.rank = rank\n",
        "\n",
        "    def is_high(self):\n",
        "        return self.rank in (\"Jack\", \"Queen\", \"King\", \"Ace\")\n",
        "\n",
        "    def __eq__(self, other):\n",
        "        return self.color == other.color and self.rank == other.rank\n",
        "\n",
        "    def __str__(self):\n",
        "        return f\"{self.rank} of {self.color}\"\n",
        "    \n",
        "    def __lt__(a, b):\n",
        "        \"\"\"Return True if a < b\"\"\"\n",
        "        return a.rank < b.rank\n",
        "\n",
        "    \n",
        "def main():\n",
        "    ten = Card(\"spades\", 10)\n",
        "    nine = Card(\"spades\", 9)\n",
        "\n",
        "    print(nine < ten, ten < nine)\n",
        "\n",
        "\n",
        "if __name__ == \"__main__\":\n",
        "    main()"
      ],
      "metadata": {
        "colab": {
          "base_uri": "https://localhost:8080/"
        },
        "id": "Xt18N2Lc5s7L",
        "outputId": "ce37ebc3-336d-4115-8e17-185ba2db4d6b"
      },
      "execution_count": null,
      "outputs": [
        {
          "output_type": "stream",
          "name": "stdout",
          "text": [
            "True False\n"
          ]
        }
      ]
    },
    {
      "cell_type": "code",
      "source": [
        "import os\n",
        "from os import kate"
      ],
      "metadata": {
        "id": "29CGBBylLkRF"
      },
      "execution_count": null,
      "outputs": []
    },
    {
      "cell_type": "code",
      "source": [
        "class name:\n",
        "    def __init__(self):\n",
        "       self.color = \"Hearts\"\n",
        "       self.rank = \"Ace\"\n",
        "\n",
        "#my_card = Card():\n",
        "if __name__ == \"__main__\":\n",
        "    name()"
      ],
      "metadata": {
        "id": "5Sf8o6Z8gKnd"
      },
      "execution_count": null,
      "outputs": []
    },
    {
      "cell_type": "code",
      "source": [
        "my_name = name"
      ],
      "metadata": {
        "id": "bFn54XMkm_TB"
      },
      "execution_count": null,
      "outputs": []
    },
    {
      "cell_type": "code",
      "source": [
        "print(my_name)"
      ],
      "metadata": {
        "colab": {
          "base_uri": "https://localhost:8080/"
        },
        "id": "-Nahbz5dnjVW",
        "outputId": "b3b70a10-d9b6-4e06-93af-dbdaa6e8ac2a"
      },
      "execution_count": null,
      "outputs": [
        {
          "output_type": "stream",
          "name": "stdout",
          "text": [
            "<class '__main__.name'>\n"
          ]
        }
      ]
    },
    {
      "cell_type": "code",
      "source": [
        "my_name"
      ],
      "metadata": {
        "colab": {
          "base_uri": "https://localhost:8080/"
        },
        "id": "wxOg3T3foCQz",
        "outputId": "aff55146-38be-43ae-a270-dc97bc9b2316"
      },
      "execution_count": null,
      "outputs": [
        {
          "output_type": "execute_result",
          "data": {
            "text/plain": [
              "__main__.name"
            ]
          },
          "metadata": {},
          "execution_count": 29
        }
      ]
    },
    {
      "cell_type": "code",
      "source": [
        "import my_name"
      ],
      "metadata": {
        "id": "wGWomuBHpVHx"
      },
      "execution_count": null,
      "outputs": []
    },
    {
      "cell_type": "code",
      "source": [
        "cislo = (\"1\",\"2\",\"3\")\n",
        "input(\"vlozit cislo: \")\n",
        "\n",
        "for i in cislo:\n",
        "  if i == 2:\n",
        "    break\n",
        "    print(\"BBBB\")\n",
        "  else:\n",
        "    print(\"zle cislo\")"
      ],
      "metadata": {
        "colab": {
          "base_uri": "https://localhost:8080/"
        },
        "id": "hSSDYlbz667m",
        "outputId": "605c66fa-c768-4bdf-c120-954e9fe83b6b"
      },
      "execution_count": null,
      "outputs": [
        {
          "output_type": "stream",
          "name": "stdout",
          "text": [
            "vlozit cislo: 2\n",
            "zle cislo\n",
            "zle cislo\n",
            "zle cislo\n"
          ]
        }
      ]
    },
    {
      "cell_type": "code",
      "source": [
        "cisla = [\"1,2,3\"]\n",
        "input = (\"insert the number\")\n",
        "\n",
        "for i in cisla:\n",
        "  if i == 2:\n",
        "    break"
      ],
      "metadata": {
        "id": "mnERMYuT8Gvu"
      },
      "execution_count": null,
      "outputs": []
    },
    {
      "cell_type": "code",
      "source": [],
      "metadata": {
        "id": "cwFjkLbwFRZv"
      },
      "execution_count": null,
      "outputs": []
    },
    {
      "cell_type": "code",
      "source": [
        "class trida1:\n",
        "    _data=1\n",
        "    def __init__(self):\n",
        "      pass"
      ],
      "metadata": {
        "id": "pQPgdQOM8GFr"
      },
      "execution_count": null,
      "outputs": []
    },
    {
      "cell_type": "code",
      "source": [
        "trida1.data"
      ],
      "metadata": {
        "colab": {
          "base_uri": "https://localhost:8080/"
        },
        "id": "JJ-DcwtaFSIq",
        "outputId": "d3ed6efc-ea52-452d-cf8f-205cbbd154f2"
      },
      "execution_count": null,
      "outputs": [
        {
          "output_type": "execute_result",
          "data": {
            "text/plain": [
              "1"
            ]
          },
          "metadata": {},
          "execution_count": 7
        }
      ]
    },
    {
      "cell_type": "code",
      "source": [
        "trida1._data"
      ],
      "metadata": {
        "id": "Vs_e72GrFZys"
      },
      "execution_count": null,
      "outputs": []
    },
    {
      "cell_type": "code",
      "source": [
        "class cislo:\n",
        "    def __init__(self):"
      ],
      "metadata": {
        "id": "h37Ik_E3PZ45"
      },
      "execution_count": null,
      "outputs": []
    },
    {
      "cell_type": "code",
      "source": [
        "#from re import X\n",
        "class sum:\n",
        "    def __init__(self,x,y):\n",
        "        self.x = X\n",
        "        self.y = y\n",
        "        return sum(x + y)\n",
        "\n",
        "\n",
        "print(x(1))\n",
        "print(y(2))"
      ],
      "metadata": {
        "id": "0YStHRxwglXv",
        "outputId": "6caac93a-806e-4827-a5cd-0f270970df97",
        "colab": {
          "base_uri": "https://localhost:8080/",
          "height": 217
        }
      },
      "execution_count": null,
      "outputs": [
        {
          "output_type": "error",
          "ename": "NameError",
          "evalue": "ignored",
          "traceback": [
            "\u001b[0;31m---------------------------------------------------------------------------\u001b[0m",
            "\u001b[0;31mNameError\u001b[0m                                 Traceback (most recent call last)",
            "\u001b[0;32m<ipython-input-1-3925fb55acc5>\u001b[0m in \u001b[0;36m<module>\u001b[0;34m\u001b[0m\n\u001b[1;32m      7\u001b[0m \u001b[0;34m\u001b[0m\u001b[0m\n\u001b[1;32m      8\u001b[0m \u001b[0;34m\u001b[0m\u001b[0m\n\u001b[0;32m----> 9\u001b[0;31m \u001b[0mprint\u001b[0m\u001b[0;34m(\u001b[0m\u001b[0mx\u001b[0m\u001b[0;34m(\u001b[0m\u001b[0;36m1\u001b[0m\u001b[0;34m)\u001b[0m\u001b[0;34m)\u001b[0m\u001b[0;34m\u001b[0m\u001b[0;34m\u001b[0m\u001b[0m\n\u001b[0m\u001b[1;32m     10\u001b[0m \u001b[0mprint\u001b[0m\u001b[0;34m(\u001b[0m\u001b[0my\u001b[0m\u001b[0;34m(\u001b[0m\u001b[0;36m2\u001b[0m\u001b[0;34m)\u001b[0m\u001b[0;34m)\u001b[0m\u001b[0;34m\u001b[0m\u001b[0;34m\u001b[0m\u001b[0m\n",
            "\u001b[0;31mNameError\u001b[0m: name 'x' is not defined"
          ]
        }
      ]
    },
    {
      "cell_type": "code",
      "source": [
        "class Player:\n",
        "    def __init__(self, name):\n",
        "        self.name = name\n",
        "        self.hand = [1,2,3]\n",
        "    \n",
        "    def __repr__(self):\n",
        "        return f\"{self.name} with {self.hand}\"\n",
        "\n",
        "class HumanPlayer(Player):\n",
        "    def __init__(self, name):\n",
        "        Player. __init__(self, name)\n",
        "\n",
        "    def __repr__"
      ],
      "metadata": {
        "id": "B1DJtl7wHoKI"
      },
      "execution_count": null,
      "outputs": []
    },
    {
      "cell_type": "code",
      "source": [
        "class Card:\n",
        "    def __init__(self):\n",
        "        self.color = \"Hearts\"\n",
        "        self.rank = \"Ace\"\n",
        "\n",
        "\n",
        "if __name__ == \"__main__\":\n",
        "    my_card = Card()\n",
        "\n",
        "    print(my_card)\n",
        "    print(my_card.color)\n",
        "    #print(my_card.is_high())"
      ],
      "metadata": {
        "colab": {
          "base_uri": "https://localhost:8080/"
        },
        "id": "GKydisi1GY1P",
        "outputId": "17552cc9-e806-4a3d-ff22-58a1b0b2a269"
      },
      "execution_count": null,
      "outputs": [
        {
          "output_type": "stream",
          "name": "stdout",
          "text": [
            "<__main__.Card object at 0x7f3fa4c25dd0>\n",
            "Hearts\n"
          ]
        }
      ]
    },
    {
      "cell_type": "code",
      "source": [
        "def my_min(sequence):\n",
        "    min = sequence[0]\n",
        "    for num in sequence[1:]:\n",
        "      if num < min:\n",
        "        num == min\n",
        "    return min\n",
        "\n",
        "\n",
        "print(my_min([1,2,3]))"
      ],
      "metadata": {
        "colab": {
          "base_uri": "https://localhost:8080/"
        },
        "id": "FhiYboZMB7gL",
        "outputId": "0d3ad2d2-0139-49a5-85b7-36a7f2ec9d53"
      },
      "execution_count": null,
      "outputs": [
        {
          "output_type": "stream",
          "name": "stdout",
          "text": [
            "1\n"
          ]
        }
      ]
    },
    {
      "cell_type": "code",
      "source": [
        "def sum(x,y):\n",
        "    return x + y\n",
        "\n",
        "print(sum(10,20))"
      ],
      "metadata": {
        "colab": {
          "base_uri": "https://localhost:8080/"
        },
        "id": "dW_2fnzYGNyh",
        "outputId": "90cb8148-eecc-4a96-8d16-758aaa825cc5"
      },
      "execution_count": null,
      "outputs": [
        {
          "output_type": "stream",
          "name": "stdout",
          "text": [
            "30\n"
          ]
        }
      ]
    },
    {
      "cell_type": "code",
      "source": [
        "import sum"
      ],
      "metadata": {
        "colab": {
          "base_uri": "https://localhost:8080/",
          "height": 304
        },
        "id": "uTAg-oTJGdWX",
        "outputId": "3e25f8a2-04c9-4b76-b3e9-19c464391f7f"
      },
      "execution_count": null,
      "outputs": [
        {
          "output_type": "error",
          "ename": "ModuleNotFoundError",
          "evalue": "ignored",
          "traceback": [
            "\u001b[0;31m---------------------------------------------------------------------------\u001b[0m",
            "\u001b[0;31mModuleNotFoundError\u001b[0m                       Traceback (most recent call last)",
            "\u001b[0;32m<ipython-input-15-c7b45f71cbf7>\u001b[0m in \u001b[0;36m<module>\u001b[0;34m\u001b[0m\n\u001b[0;32m----> 1\u001b[0;31m \u001b[0;32mimport\u001b[0m \u001b[0msum\u001b[0m\u001b[0;34m\u001b[0m\u001b[0;34m\u001b[0m\u001b[0m\n\u001b[0m",
            "\u001b[0;31mModuleNotFoundError\u001b[0m: No module named 'sum'",
            "",
            "\u001b[0;31m---------------------------------------------------------------------------\u001b[0;32m\nNOTE: If your import is failing due to a missing package, you can\nmanually install dependencies using either !pip or !apt.\n\nTo view examples of installing some common dependencies, click the\n\"Open Examples\" button below.\n\u001b[0;31m---------------------------------------------------------------------------\u001b[0m\n"
          ],
          "errorDetails": {
            "actions": [
              {
                "action": "open_url",
                "actionText": "Open Examples",
                "url": "/notebooks/snippets/importing_libraries.ipynb"
              }
            ]
          }
        }
      ]
    },
    {
      "cell_type": "code",
      "source": [
        "def plus(x,y):\n",
        "    sum(x+y)\n",
        "    return \n",
        "\n",
        "def minus(x,y):\n",
        "    sum(x-y)\n",
        "    return \n",
        "\n",
        "x = int(input(\"enter the number: \"))\n",
        "y= int(input(\"enter the second number: \"))\n",
        "\n",
        "choice =input(\n",
        "\"\"\"\n",
        "select your funcion:\n",
        "plus = 1\n",
        "minus = 2\n",
        "\"\"\")\n",
        "for i in choice:\n",
        "  if choice == 1:  \n",
        "    print(\"Vysledok je\", + sum(x+y))\n",
        "  elif choice == 2:\n",
        "    print(\"vysledok je\", sum(minus))\n",
        "  else:\n",
        "    print(\"bullshit\")"
      ],
      "metadata": {
        "colab": {
          "base_uri": "https://localhost:8080/"
        },
        "id": "1bt2aqqb5F7d",
        "outputId": "3ec88bd3-24ca-4432-f58b-021e313171f7"
      },
      "execution_count": null,
      "outputs": [
        {
          "output_type": "stream",
          "name": "stdout",
          "text": [
            "enter the number: 1\n",
            "enter the second number: 1\n",
            "\n",
            "select your funcion:\n",
            "plus = 1\n",
            "minus = 2\n",
            "1\n",
            "bullshit\n"
          ]
        }
      ]
    },
    {
      "cell_type": "code",
      "source": [],
      "metadata": {
        "id": "_kKsvuJZmi6P"
      },
      "execution_count": null,
      "outputs": []
    }
  ]
}