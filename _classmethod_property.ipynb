{
  "nbformat": 4,
  "nbformat_minor": 0,
  "metadata": {
    "colab": {
      "provenance": [],
      "authorship_tag": "ABX9TyM9VX6bW9zQuaZLKxYachwq",
      "include_colab_link": true
    },
    "kernelspec": {
      "name": "python3",
      "display_name": "Python 3"
    },
    "language_info": {
      "name": "python"
    }
  },
  "cells": [
    {
      "cell_type": "markdown",
      "metadata": {
        "id": "view-in-github",
        "colab_type": "text"
      },
      "source": [
        "<a href=\"https://colab.research.google.com/github/Luky-ALT/Projects_by_Python/blob/main/_classmethod_property.ipynb\" target=\"_parent\"><img src=\"https://colab.research.google.com/assets/colab-badge.svg\" alt=\"Open In Colab\"/></a>"
      ]
    },
    {
      "cell_type": "code",
      "execution_count": null,
      "metadata": {
        "id": "zvivF1eCqkGd"
      },
      "outputs": [],
      "source": [
        "class BOOK:\n",
        "    TYPES = (\"HARDCOVER\", \"PAPERBACK\")\n",
        "\n",
        "    def __init__(self, name, book_type, weight):\n",
        "        self.name = name\n",
        "        self.book_type = book_type\n",
        "        self.weight = weight\n",
        "\n",
        "    def __repr__(self):\n",
        "        return f\"<BOOK {self.name}, {self.book_type}, weight {self.weight}g>\"\n",
        "\n",
        "    @classmethod\n",
        "    def hardcover(cls, name, page_weight):\n",
        "        return BOOK(name, BOOK.TYPES[0], page_weight + 100)\n",
        "\n",
        "    @classmethod\n",
        "    def paperback(cls, name, page_weight):\n",
        "        return BOOK(name, BOOK.TYPES[1], page_weight)\n",
        "\n",
        "\n",
        "\n",
        "book = BOOK.hardcover(\"Harry Potter\",1500)\n",
        "light = BOOK.paperback(\"Harry Potter\",1000)\n",
        "\n",
        "print(book)\n",
        "print(light)"
      ]
    },
    {
      "cell_type": "code",
      "source": [
        "import math\n",
        "\n",
        "class Circle():\n",
        "  def __init__(self, radius):\n",
        "      self.radius = radius\n",
        "  @property\n",
        "  def area(self):\n",
        "      return 3.14*(self.radius**2)\n",
        "\n",
        "e = Circle(8)\n",
        "print(\"Area of circel: \", e.area)"
      ],
      "metadata": {
        "id": "WlKSDJLaq6Wv"
      },
      "execution_count": null,
      "outputs": []
    }
  ]
}